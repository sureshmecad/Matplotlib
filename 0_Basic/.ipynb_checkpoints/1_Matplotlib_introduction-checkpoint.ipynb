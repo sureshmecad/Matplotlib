{
 "cells": [
  {
   "cell_type": "raw",
   "metadata": {},
   "source": [
    "#   Matplotlib is a plotting library for the Python programming language and its numerical mathematics extension NumPy. It \n",
    "\n",
    "    provides an object-oriented API for embedding plots into applications using general-purpose GUI toolkits like Tkinter, \n",
    "   \n",
    "    wxPython, Qt, or GTK+.\n",
    "   \n",
    "\n",
    "#   Some of the major Pros of Matplotlib are:\n",
    "\n",
    "        - Generally easy to get started for simple plots\n",
    "\n",
    "        - Support for custom labels and texts\n",
    "\n",
    "        - Great control of every element in a figure\n",
    "\n",
    "        - High-quality output in many formats\n",
    "\n",
    "        - Very customizable in general"
   ]
  },
  {
   "cell_type": "raw",
   "metadata": {},
   "source": [
    "# It is an open source drawing library which supports rich drawing types.\n",
    "\n",
    "# It is used to draw 2D and 3D graphs.\n",
    "\n",
    "# You can generate plots, histograms, bar charts and many other charts with just a few lines of code."
   ]
  },
  {
   "cell_type": "raw",
   "metadata": {},
   "source": [
    "#  %matplotlib inline\n",
    "\n",
    "        - which instructs python to not produce visualisations in seperate window but to do it in same window.\n",
    "        \n",
    "        - "
   ]
  },
  {
   "cell_type": "markdown",
   "metadata": {},
   "source": [
    "-------------------------------------------------------------------------------------------------------------------------------"
   ]
  },
  {
   "cell_type": "code",
   "execution_count": 1,
   "metadata": {},
   "outputs": [],
   "source": [
    "import matplotlib"
   ]
  },
  {
   "cell_type": "code",
   "execution_count": 2,
   "metadata": {},
   "outputs": [
    {
     "data": {
      "text/plain": [
       "'3.0.3'"
      ]
     },
     "execution_count": 2,
     "metadata": {},
     "output_type": "execute_result"
    }
   ],
   "source": [
    "matplotlib.__version__"
   ]
  },
  {
   "cell_type": "markdown",
   "metadata": {},
   "source": [
    "-------------------------------------------------------------------------------------------------------------------------------"
   ]
  },
  {
   "cell_type": "code",
   "execution_count": 3,
   "metadata": {},
   "outputs": [],
   "source": [
    "from matplotlib import pylab"
   ]
  },
  {
   "cell_type": "code",
   "execution_count": 4,
   "metadata": {},
   "outputs": [
    {
     "name": "stdout",
     "output_type": "stream",
     "text": [
      "1.16.2\n"
     ]
    }
   ],
   "source": [
    "print(pylab.__version__)"
   ]
  },
  {
   "cell_type": "markdown",
   "metadata": {},
   "source": [
    "-------------------------------------------------------------------------------------------------------------------------------"
   ]
  }
 ],
 "metadata": {
  "kernelspec": {
   "display_name": "Python 3",
   "language": "python",
   "name": "python3"
  },
  "language_info": {
   "codemirror_mode": {
    "name": "ipython",
    "version": 3
   },
   "file_extension": ".py",
   "mimetype": "text/x-python",
   "name": "python",
   "nbconvert_exporter": "python",
   "pygments_lexer": "ipython3",
   "version": "3.7.3"
  }
 },
 "nbformat": 4,
 "nbformat_minor": 2
}
