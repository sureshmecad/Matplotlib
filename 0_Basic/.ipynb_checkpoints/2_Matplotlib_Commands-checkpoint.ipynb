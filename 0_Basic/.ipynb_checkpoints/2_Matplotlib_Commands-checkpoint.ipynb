{
 "cells": [
  {
   "cell_type": "markdown",
   "metadata": {},
   "source": [
    "<h2 style=\"color:blue\" align=\"left\"> Matplotlib </h2>"
   ]
  },
  {
   "cell_type": "raw",
   "metadata": {},
   "source": [
    "1.    import numpy as np\n",
    "                           \n",
    "      from matplotlib import pyplot as plt\n",
    "      \n",
    "      \n",
    "2.    import matplotlib.pyplot as plt\n",
    "\n",
    "      import numpy as np\n",
    "\n",
    "      %matplotlib inline\n",
    "      \n",
    "      \n",
    "3.    from matplotlib import pyplot as plt\n",
    "\n",
    "      from matplotlib import style\n",
    "\n",
    "      style.use('ggplot')\n",
    "      \n",
    "      \n",
    "4.    %matplotlib inline    ---->   plt.show()   ---->   No need to write every time\n",
    "\n",
    "                                    make your plot outputs appear and be stored within the notebook \n",
    "\n",
    "\n",
    "5.    import matplotlib\n",
    "\n",
    "      matplotlib.__version__\n",
    "      \n",
    "      \n",
    "6.    from matplotlib import pylab\n",
    "\n",
    "      print(pylab.__version__)\n",
    "      \n",
    "      \n",
    "7.    plt.rcParams['figure.figsize']=(10,6)   # No need to enter for each graph\n",
    "\n",
    "      plt.figure(figsize=(10,6))             # For each and every graph\n",
    "      \n",
    "      \n",
    "      \n",
    "8.    matplotlib.style.use('ggplot')\n",
    "\n",
    "\n",
    "9.    # Print matplotlib available plot styles\n",
    "\n",
    "      plt.style.available"
   ]
  },
  {
   "cell_type": "raw",
   "metadata": {},
   "source": [
    "#  Matplotlib is a plotting library for the Python and its numeric mathmatics extension Numpy.\n",
    "\n",
    "#  Matplotlib is a Python package used for 2D graphs."
   ]
  },
  {
   "cell_type": "markdown",
   "metadata": {},
   "source": [
    "### NumPy - Matplotlib"
   ]
  },
  {
   "cell_type": "raw",
   "metadata": {},
   "source": [
    "1. pyplot( ) is the most important function in matplotlib library, which is used to plot 2D data.\n",
    "\n",
    "           a. plot( ) function of pyplot submodule of matplotlib package.\n",
    "           \n",
    "           b. subplot( )\n",
    "           \n",
    "           c. bar( ) function of pyplot submodule used to generate bar graphs.\n",
    "           \n",
    "          \n",
    "                           import numpy as np\n",
    "                           \n",
    "                           from matplotlib import pyplot as plt\n",
    "                           \n",
    "\n",
    "                           # Plot the points using matplotlib \n",
    "                           plt.plot(x, y) \n",
    "                           plt.show()"
   ]
  },
  {
   "cell_type": "markdown",
   "metadata": {},
   "source": [
    "### a. Plot( )"
   ]
  },
  {
   "cell_type": "raw",
   "metadata": {},
   "source": [
    "The following script plots the equation y = 2x + 5\n",
    "\n",
    "     import numpy as np                                    import numpy as np\n",
    "    \n",
    "     from matplotlib import pyplot as plt                  from matplotlib import pyplot as plt\n",
    "\n",
    "     x = np.arange(1,11)                                   x = np.arange(1,11)\n",
    "    \n",
    "     y = 2 * x + 5                                         y = 2 * x + 5 \n",
    "        \n",
    "     plt.title(\"Matplotlib demo\")                          plt.title(\"Matplotlib demo\")\n",
    "    \n",
    "     plt.xlabel(\"x axis caption\")                          plt.xlabel(\"x axis caption\")\n",
    "        \n",
    "     plt.ylabel(\"y axis caption\")                          plt.ylabel(\"y axis caption\")\n",
    "    \n",
    "     plt.plot(x,y)                                         plt.plot(x,y,\"ob\")                   “ob”\n",
    "\n",
    "     plt.show( )                                           plt.show()                           O --->  Circle marker\n",
    "    \n",
    "                                                                                                b --->  blue"
   ]
  },
  {
   "cell_type": "raw",
   "metadata": {},
   "source": [
    "from matplotlib import pyplot as plt \n",
    "plt.scatter(x,y)\n",
    "plt.plot(x, y, color=‘red’) \n",
    "plt.show() "
   ]
  },
  {
   "cell_type": "raw",
   "metadata": {},
   "source": [
    "S.No   Character and Description                                                              Character          Color\n",
    "\n",
    "1       '-‘      Solid line style                 14        '3‘       Tri_left marker            'b'              Blue    \n",
    "\n",
    "2       '--‘     Dashed line style                15        '4‘       Tri_right marker           'g'              Green\n",
    "\n",
    "3       '-.‘     Dash-dot line style              16        's‘       Square marker              'r'              Red\n",
    "\n",
    "4       ':‘      Dotted line style                17        'p‘       Pentagon marker            'c'              Cyan\n",
    "\n",
    "5       '.‘      Point marker                     18        '*‘       Star marker                'm'              Magenta\n",
    " \n",
    "6       ',‘      Pixel marker                     19        'h‘       Hexagon1 marker            'y'              Yellow\n",
    "\n",
    "7       'o‘      Circle marker                    20        'H‘       Hexagon2 marker            'k'              Black\n",
    "\n",
    "8       'v‘      Triangle_down marker             21        '+‘       Plus marker                'w'              White\n",
    "\n",
    "9       '^‘      Triangle_up marker               22        'x‘       X marker\n",
    "\n",
    "10      '<‘      Triangle_left marker             23        'D‘       Diamond marker\n",
    "\n",
    "11      '>‘      Triangle_right marker            24        'd‘       Thin_diamond marker\n",
    "\n",
    "12      '1‘      Tri_down marker                  25        '|‘       Vline marker\n",
    "\n",
    "13      '2‘      Tri_up                           26        '_‘       Hline marker\n"
   ]
  },
  {
   "cell_type": "markdown",
   "metadata": {},
   "source": [
    "### b. subplot( )"
   ]
  },
  {
   "cell_type": "raw",
   "metadata": {},
   "source": [
    "# The subplot( ) function allows you to plot different things in the same figure. In the following script,\n",
    "  sine and cosine values are plotted.\n",
    "\n",
    "         import numpy as np \n",
    "         import matplotlib.pyplot as plt  \n",
    "   \n",
    "# Compute the x and y coordinates for points on sine and cosine curves \n",
    "\n",
    "         x = np.arange(0, 3 * np.pi, 0.1) \n",
    "         y_sin = np.sin(x) \n",
    "         y_cos = np.cos(x)  \n",
    "   \n",
    "# Set up a subplot grid that has height 2 and width 1, \n",
    "# and set the first such subplot as active. \n",
    "\n",
    "         plt.subplot(2, 1, 1)\n",
    "   \n",
    "# Make the first plot \n",
    "\n",
    "         plt.plot(x, y_sin) \n",
    "         plt.title('Sine')  \n",
    "   \n",
    "# Set the second subplot as active, and make the second plot. \n",
    "\n",
    "         plt.subplot(2, 1, 2) \n",
    "         plt.plot(x, y_cos) \n",
    "         plt.title('Cosine')  \n",
    "   \n",
    "# Show the figure. \n",
    "\n",
    "         plt.show()\n"
   ]
  },
  {
   "cell_type": "markdown",
   "metadata": {},
   "source": [
    "### c. bar( )"
   ]
  },
  {
   "cell_type": "raw",
   "metadata": {},
   "source": [
    "from matplotlib import pyplot as plt\n",
    "\n",
    "x = [5,8,10] \n",
    "y = [12,16,6]  \n",
    "\n",
    "x2 = [6,9,11] \n",
    "y2 = [6,15,7] \n",
    "\n",
    "plt.bar(x, y, align = 'center') \n",
    "plt.bar(x2, y2, color = 'g', align = 'center') \n",
    "\n",
    "plt.title('Bar graph') \n",
    "plt.ylabel('Y axis') \n",
    "plt.xlabel('X axis')  \n",
    "\n",
    "plt.show()"
   ]
  },
  {
   "cell_type": "raw",
   "metadata": {},
   "source": [
    "plt.figure(figsize=(10,8))\n",
    "\n",
    "plt.bar([1,3,5,7,9],[5,2,7,8,2], label='Example one')\n",
    "plt.bar([2,4,6,8,10],[8,6,2,5,6], label='Example two',color='g')\n",
    "\n",
    "plt.legend()\n",
    "\n",
    "plt.xlabel('bar number', fontsize = 20)\n",
    "plt.ylabel('bar height', fontsize = 20)\n",
    "\n",
    "plt.title('info', fontsize = 20, fontweight = 'bold')\n",
    "\n",
    "plt.xticks(rotation = 45, fontsize = 12)\n",
    "plt.yticks(fontsize = 12)\n",
    "\n",
    "plt.show()"
   ]
  }
 ],
 "metadata": {
  "kernelspec": {
   "display_name": "Python 3",
   "language": "python",
   "name": "python3"
  },
  "language_info": {
   "codemirror_mode": {
    "name": "ipython",
    "version": 3
   },
   "file_extension": ".py",
   "mimetype": "text/x-python",
   "name": "python",
   "nbconvert_exporter": "python",
   "pygments_lexer": "ipython3",
   "version": "3.7.3"
  }
 },
 "nbformat": 4,
 "nbformat_minor": 2
}
