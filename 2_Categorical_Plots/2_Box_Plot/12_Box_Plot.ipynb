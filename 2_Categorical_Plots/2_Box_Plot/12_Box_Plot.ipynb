{
 "cells": [
  {
   "cell_type": "markdown",
   "metadata": {},
   "source": [
    "<h2 style=\"color:blue\" align=\"left\"> Box Plot </h2>"
   ]
  },
  {
   "cell_type": "code",
   "execution_count": 1,
   "metadata": {},
   "outputs": [],
   "source": [
    "from matplotlib import pyplot as plt\n",
    "import numpy as np"
   ]
  },
  {
   "cell_type": "code",
   "execution_count": 2,
   "metadata": {},
   "outputs": [
    {
     "data": {
      "image/png": "[encoded data removed]",
      "text/plain": [
       "<Figure size 432x288 with 1 Axes>"
      ]
     },
     "metadata": {
      "needs_background": "light"
     },
     "output_type": "display_data"
    }
   ],
   "source": [
    "data = [np.random.normal(0, std, 100) for std in range(1, 4)]\n",
    "\n",
    "# rectangular box plot\n",
    "plt.boxplot(data,vert=True,patch_artist=False);"
   ]
  },
  {
   "cell_type": "code",
   "execution_count": 3,
   "metadata": {},
   "outputs": [
    {
     "data": {
      "text/plain": [
       "[array([ 1.24466979, -1.07998147,  1.49814019, -0.38598367,  0.16712025,\n",
       "         0.26099144, -1.02156919,  0.11317297, -0.20449087,  0.87354205,\n",
       "        -0.47562233, -0.99921329, -0.09243335, -0.67505299, -0.01783369,\n",
       "         0.17439258, -0.13877978,  0.96448125, -0.12431454,  1.00193723,\n",
       "        -0.06259091,  0.55929527, -0.58702402, -0.3198476 ,  0.73614513,\n",
       "        -1.4382996 ,  0.80982374,  1.19049584,  0.80737549,  1.37212387,\n",
       "         1.0009229 ,  0.24226904,  0.5148019 , -0.91592357,  0.05618453,\n",
       "         0.21554439,  0.78534399, -0.96240068, -1.13850524,  0.31915675,\n",
       "        -1.10054954, -0.62918722, -1.26024992,  0.83912859, -0.26993285,\n",
       "        -1.05322498,  0.54197818,  0.8557258 , -1.51775296, -1.35343314,\n",
       "         0.01769457,  1.1708358 , -1.86199399,  1.30852225, -1.62605039,\n",
       "        -1.48875484, -1.18878177, -1.95331987, -0.4325681 ,  0.26840274,\n",
       "         0.18853249,  0.50142183, -0.17093292, -0.10526998, -0.46069964,\n",
       "         1.55762332,  1.43581395, -2.58318939,  0.62818741, -1.09614524,\n",
       "         0.61334327, -0.28778283,  1.97861916,  1.50831984, -2.60486254,\n",
       "         0.21124465, -0.48722148, -1.70130422,  1.21818229, -1.25530703,\n",
       "        -1.93857103, -0.0228541 , -0.17685138, -1.36584001,  1.18925393,\n",
       "        -1.3086857 , -0.4427799 , -1.1075222 , -1.11786399,  1.14566987,\n",
       "        -0.32218408, -0.7119704 ,  1.69376358, -0.41052009,  0.53085585,\n",
       "         2.26657154, -2.25507423,  1.38312131,  1.37107503,  0.55722446]),\n",
       " array([-0.81154164, -0.63225486,  1.94163527,  1.87327477, -0.6809375 ,\n",
       "         2.35500548,  1.29677968, -0.9743712 ,  2.72359041, -1.1421584 ,\n",
       "         0.23840495,  1.82888665,  2.12709463, -0.10466001,  0.96178672,\n",
       "         2.04604321,  0.78282025, -0.52753594,  0.13587893, -2.95066991,\n",
       "         0.90959958,  1.41850369, -0.3379797 ,  0.91635848, -2.07949131,\n",
       "         2.68691839, -0.36766856, -1.11583367, -1.9190634 , -2.4972569 ,\n",
       "        -0.34855217,  1.01209781,  2.54770551, -1.69524241,  2.26904243,\n",
       "         1.95605848,  0.11668676,  4.02469307, -1.87772714, -2.54380089,\n",
       "        -2.46373693,  1.90482499,  0.08599824,  0.30391372,  2.42142441,\n",
       "         0.76745907, -0.57809204,  0.25518924, -0.73792588, -2.07099516,\n",
       "        -3.6392033 , -2.35470679,  2.89803453,  1.41661204, -1.83089996,\n",
       "        -1.61761956,  2.55443194,  1.46337151,  0.87152293, -0.58095887,\n",
       "        -2.16666187,  1.05685613, -4.90341568,  0.99462437,  1.44674439,\n",
       "        -1.15985113, -1.66248577,  0.4030979 ,  0.26754407, -4.90148996,\n",
       "        -0.26493184, -0.1191604 , -2.73423561,  4.91200742, -1.7091664 ,\n",
       "        -4.15528748,  0.16957335,  1.54089698, -0.45583608,  0.20197735,\n",
       "         1.85269268, -0.25185616, -0.32880391,  0.49833682, -0.77095165,\n",
       "        -0.0983065 , -0.08401362, -3.30910588,  1.09395921,  0.03299186,\n",
       "         0.81378212,  2.53839134, -3.17956292,  0.81540029, -1.06803972,\n",
       "         0.23700476,  2.77714383,  2.32217604, -6.72540638, -2.39457396]),\n",
       " array([ 0.49491987, -2.58274728, -1.33068325,  1.06945634, -1.94681666,\n",
       "        -2.56787841,  5.0923821 , -4.31253737,  2.66391323,  5.15350999,\n",
       "         1.85406804,  1.42270278,  4.89826512,  6.84013819, -2.072546  ,\n",
       "        -5.22653907,  0.57837922, -3.77857964, -3.26995002, -1.11714444,\n",
       "         2.43100718,  1.09120588,  0.8442152 , -1.68220702, -1.28406056,\n",
       "         1.33121683,  4.03494743, -0.80028029, -1.22974257,  0.01324176,\n",
       "        -1.73681062,  3.66248901, -3.07755089, -8.11578801, -5.25088369,\n",
       "        -2.53202836, -1.24462985,  4.66134313, -8.685702  , -2.9167409 ,\n",
       "        -0.44261939, -1.75068174, -1.00346614,  0.24178808, -0.86266417,\n",
       "        -0.80358798,  2.60666152, -0.14111443, -1.2732042 , -0.41976402,\n",
       "         6.39759573,  1.31068307, -3.03147657,  1.41171985, -1.46512858,\n",
       "         1.16498905,  1.21175529, -1.20347582,  4.97086395,  0.91460026,\n",
       "         2.67404468, -3.67848781, -0.4015096 , -3.25635395, -3.29214996,\n",
       "        -2.89323201,  3.32032699, -1.5780181 , -8.39455889, -0.23782852,\n",
       "         3.5580895 ,  2.16020475, -1.39469302,  0.18884828, -4.49282707,\n",
       "        -1.98673479,  4.29100779, -1.74576743,  1.04076536,  4.02015696,\n",
       "         2.54942438,  6.90881796, -2.8624388 ,  2.58784114,  3.59153025,\n",
       "         6.46682535, -2.06773197, -6.02346774, -3.93782767, -1.80490274,\n",
       "        -1.50483075,  1.60234041, -1.40399074,  0.45040089,  3.63129772,\n",
       "         1.62677144,  2.45090548,  1.13263074, -2.134471  ,  3.78852061])]"
      ]
     },
     "execution_count": 3,
     "metadata": {},
     "output_type": "execute_result"
    }
   ],
   "source": [
    "data"
   ]
  }
 ],
 "metadata": {
  "kernelspec": {
   "display_name": "Python 3",
   "language": "python",
   "name": "python3"
  },
  "language_info": {
   "codemirror_mode": {
    "name": "ipython",
    "version": 3
   },
   "file_extension": ".py",
   "mimetype": "text/x-python",
   "name": "python",
   "nbconvert_exporter": "python",
   "pygments_lexer": "ipython3",
   "version": "3.7.3"
  }
 },
 "nbformat": 4,
 "nbformat_minor": 2
}
